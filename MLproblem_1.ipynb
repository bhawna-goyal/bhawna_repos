{
  "nbformat": 4,
  "nbformat_minor": 0,
  "metadata": {
    "colab": {
      "name": "MLproblem-1",
      "version": "0.3.2",
      "provenance": []
    },
    "kernelspec": {
      "name": "python3",
      "display_name": "Python 3"
    }
  },
  "cells": [
    {
      "cell_type": "code",
      "metadata": {
        "id": "e5X-fhmnCTQk",
        "colab_type": "code",
        "colab": {}
      },
      "source": [
        "import numpy as np\n",
        "import random"
      ],
      "execution_count": 0,
      "outputs": []
    },
    {
      "cell_type": "code",
      "metadata": {
        "id": "BxFxqO00CbrX",
        "colab_type": "code",
        "outputId": "f2db4676-1421-492f-cd52-59369897da35",
        "colab": {
          "base_uri": "https://localhost:8080/",
          "height": 105
        }
      },
      "source": [
        "r = int(input(\"Enter the no. of rows :\"))          #row input\n",
        "c = int(input(\"enter the no. of columns:\"))         # column input\n",
        "\n",
        "random = np.random.random((r,c))                     # Generating random number\n",
        "random"
      ],
      "execution_count": 0,
      "outputs": [
        {
          "output_type": "stream",
          "text": [
            "Enter the no. of rows :3\n",
            "enter the no. of columns:2\n"
          ],
          "name": "stdout"
        },
        {
          "output_type": "execute_result",
          "data": {
            "text/plain": [
              "array([[0.8624069 , 0.22824433],\n",
              "       [0.69791691, 0.79705028],\n",
              "       [0.1398024 , 0.23948514]])"
            ]
          },
          "metadata": {
            "tags": []
          },
          "execution_count": 17
        }
      ]
    },
    {
      "cell_type": "code",
      "metadata": {
        "id": "HRq-mx3RHgD9",
        "colab_type": "code",
        "colab": {}
      },
      "source": [
        "file = open('random.txt',\"w\")\n",
        "f.write(\"ARRAY\\n\")\n",
        "np.savetxt('file',random)             # saving data into file\n"
      ],
      "execution_count": 0,
      "outputs": []
    },
    {
      "cell_type": "code",
      "metadata": {
        "id": "YoIGmwTzINPD",
        "colab_type": "code",
        "outputId": "465b2c79-8863-44eb-ecf8-fb6c452e301d",
        "colab": {
          "base_uri": "https://localhost:8080/",
          "height": 70
        }
      },
      "source": [
        "y=np.loadtxt('file')                  #loading data into variable y\n",
        "y\n",
        "\n"
      ],
      "execution_count": 0,
      "outputs": [
        {
          "output_type": "execute_result",
          "data": {
            "text/plain": [
              "array([[0.8624069 , 0.22824433],\n",
              "       [0.69791691, 0.79705028],\n",
              "       [0.1398024 , 0.23948514]])"
            ]
          },
          "metadata": {
            "tags": []
          },
          "execution_count": 23
        }
      ]
    },
    {
      "cell_type": "code",
      "metadata": {
        "id": "0N1k8XRfKWc7",
        "colab_type": "code",
        "colab": {}
      },
      "source": [
        ""
      ],
      "execution_count": 0,
      "outputs": []
    }
  ]
}