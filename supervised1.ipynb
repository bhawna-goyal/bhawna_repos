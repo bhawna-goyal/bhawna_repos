{
  "nbformat": 4,
  "nbformat_minor": 0,
  "metadata": {
    "colab": {
      "name": "supervised1",
      "version": "0.3.2",
      "provenance": [],
      "collapsed_sections": []
    },
    "kernelspec": {
      "name": "python3",
      "display_name": "Python 3"
    }
  },
  "cells": [
    {
      "cell_type": "code",
      "metadata": {
        "id": "xmPXjM9vIMiF",
        "colab_type": "code",
        "colab": {}
      },
      "source": [
        "#from sklearn import diabetes datasets\n",
        "import time\n",
        "from sklearn.datasets import load_diabetes\n",
        "from sklearn.tree import DecisionTreeClassifier\n",
        "import matplotlib.pyplot as plt"
      ],
      "execution_count": 0,
      "outputs": []
    },
    {
      "cell_type": "code",
      "metadata": {
        "id": "0B4-P6ZYTRa9",
        "colab_type": "code",
        "colab": {}
      },
      "source": [
        "#now loading diabetes datasets only :-\n",
        "diabetes = load_diabetes()\n"
      ],
      "execution_count": 0,
      "outputs": []
    },
    {
      "cell_type": "code",
      "metadata": {
        "id": "NKnfbcn6h6uU",
        "colab_type": "code",
        "outputId": "401a3ee3-754f-400a-d077-1d737810461e",
        "colab": {
          "base_uri": "https://localhost:8080/",
          "height": 34
        }
      },
      "source": [
        "diabetes.keys()     "
      ],
      "execution_count": 0,
      "outputs": [
        {
          "output_type": "execute_result",
          "data": {
            "text/plain": [
              "dict_keys(['data', 'target', 'DESCR', 'feature_names', 'data_filename', 'target_filename'])"
            ]
          },
          "metadata": {
            "tags": []
          },
          "execution_count": 35
        }
      ]
    },
    {
      "cell_type": "code",
      "metadata": {
        "id": "8pCTOzN1TrYg",
        "colab_type": "code",
        "outputId": "eed1e9a0-03bc-481c-bf42-413353757e7e",
        "colab": {
          "base_uri": "https://localhost:8080/",
          "height": 122
        }
      },
      "source": [
        "dir(diabetes)\n"
      ],
      "execution_count": 0,
      "outputs": [
        {
          "output_type": "execute_result",
          "data": {
            "text/plain": [
              "['DESCR',\n",
              " 'data',\n",
              " 'data_filename',\n",
              " 'feature_names',\n",
              " 'target',\n",
              " 'target_filename']"
            ]
          },
          "metadata": {
            "tags": []
          },
          "execution_count": 12
        }
      ]
    },
    {
      "cell_type": "code",
      "metadata": {
        "id": "yu2Z8BuNVXry",
        "colab_type": "code",
        "outputId": "64e5bb6d-bebe-4bd7-a6d3-fd93e8a1e10e",
        "colab": {
          "base_uri": "https://localhost:8080/",
          "height": 34
        }
      },
      "source": [
        "# DIABETES DESCR\n",
        "diabetes.feature_names"
      ],
      "execution_count": 0,
      "outputs": [
        {
          "output_type": "execute_result",
          "data": {
            "text/plain": [
              "['age', 'sex', 'bmi', 'bp', 's1', 's2', 's3', 's4', 's5', 's6']"
            ]
          },
          "metadata": {
            "tags": []
          },
          "execution_count": 13
        }
      ]
    },
    {
      "cell_type": "code",
      "metadata": {
        "id": "GyD40kdBVqMV",
        "colab_type": "code",
        "colab": {}
      },
      "source": [
        "#actual data with attributes is:\n",
        "features = diabetes.data"
      ],
      "execution_count": 0,
      "outputs": []
    },
    {
      "cell_type": "code",
      "metadata": {
        "id": "DfvpJSQgV76m",
        "colab_type": "code",
        "colab": {}
      },
      "source": [
        "features.shape\n",
        "type(features)\n",
        "# label or answer\n",
        "label = diabetes.target\n"
      ],
      "execution_count": 0,
      "outputs": []
    },
    {
      "cell_type": "code",
      "metadata": {
        "id": "3xeJy_vnXIvH",
        "colab_type": "code",
        "colab": {}
      },
      "source": [
        "# now time for separating data into two category\n",
        "# 1....training data\n",
        "# 2....testing data ---questions\n",
        "from sklearn.model_selection import train_test_split\n",
        "train_data , test_data , label_train , label_test = train_test_split(features , label ,  test_size = 0.1)"
      ],
      "execution_count": 0,
      "outputs": []
    },
    {
      "cell_type": "code",
      "metadata": {
        "id": "358NyZb9YFZR",
        "colab_type": "code",
        "colab": {}
      },
      "source": [
        "# calling decision tree classifier\n",
        "clf = DecisionTreeClassifier()\n",
        "# now time for training clf\n",
        "trained = clf.fit(train_data , label_train)"
      ],
      "execution_count": 0,
      "outputs": []
    },
    {
      "cell_type": "code",
      "metadata": {
        "id": "nKUSbsgkdXwg",
        "colab_type": "code",
        "colab": {}
      },
      "source": [
        "# now predicting class \n",
        "predicted = trained.predict(test_data)"
      ],
      "execution_count": 0,
      "outputs": []
    },
    {
      "cell_type": "code",
      "metadata": {
        "id": "bKarIAy4dtMn",
        "colab_type": "code",
        "outputId": "4bd6b515-8651-4187-a877-f5d5311492fc",
        "colab": {
          "base_uri": "https://localhost:8080/",
          "height": 105
        }
      },
      "source": [
        "predicted"
      ],
      "execution_count": 0,
      "outputs": [
        {
          "output_type": "execute_result",
          "data": {
            "text/plain": [
              "array([145., 140.,  84., 172., 225., 125.,  93., 111., 185., 281.,  72.,\n",
              "       270., 297., 235., 225., 257., 310.,  92., 225.,  75.,  99.,  71.,\n",
              "       242.,  66.,  55.,  72.,  91.,  66., 153., 109.,  84., 252.,  51.,\n",
              "       115., 214.,  83., 202., 293.,  66., 185., 109., 263., 178.,  90.,\n",
              "       190.])"
            ]
          },
          "metadata": {
            "tags": []
          },
          "execution_count": 28
        }
      ]
    },
    {
      "cell_type": "code",
      "metadata": {
        "id": "zJdqClZXdwM0",
        "colab_type": "code",
        "outputId": "a45f3f96-1ee6-4b7f-cfc3-28cde630f43f",
        "colab": {
          "base_uri": "https://localhost:8080/",
          "height": 105
        }
      },
      "source": [
        "label_test    #actual answer"
      ],
      "execution_count": 0,
      "outputs": [
        {
          "output_type": "execute_result",
          "data": {
            "text/plain": [
              "array([118., 131.,  98., 120., 151., 134.,  97., 178., 321., 303.,  59.,\n",
              "       230., 150.,  84., 132., 129., 275., 109., 272., 108.,  65.,  88.,\n",
              "       186., 252., 146.,  65., 174., 110.,  79., 160.,  45., 236., 101.,\n",
              "        77., 206., 138.,  58., 142.,  53., 150., 200., 170., 110.,  48.,\n",
              "        65.])"
            ]
          },
          "metadata": {
            "tags": []
          },
          "execution_count": 29
        }
      ]
    },
    {
      "cell_type": "code",
      "metadata": {
        "id": "8-fW6kdXkKeU",
        "colab_type": "code",
        "colab": {}
      },
      "source": [
        ""
      ],
      "execution_count": 0,
      "outputs": []
    },
    {
      "cell_type": "code",
      "metadata": {
        "id": "JojXGp00f1eJ",
        "colab_type": "code",
        "outputId": "c51f8b03-d33d-4321-f46c-7127e397750d",
        "colab": {
          "base_uri": "https://localhost:8080/",
          "height": 34
        }
      },
      "source": [
        " #now accuracy for diabetes\n",
        "from sklearn.metrics import accuracy_score\n",
        "dacr = accuracy_score(label_test , predicted)\n",
        "dacr"
      ],
      "execution_count": 0,
      "outputs": [
        {
          "output_type": "execute_result",
          "data": {
            "text/plain": [
              "0.0"
            ]
          },
          "metadata": {
            "tags": []
          },
          "execution_count": 33
        }
      ]
    },
    {
      "cell_type": "code",
      "metadata": {
        "id": "-8DG92sNhDbE",
        "colab_type": "code",
        "colab": {}
      },
      "source": [
        ""
      ],
      "execution_count": 0,
      "outputs": []
    },
    {
      "cell_type": "markdown",
      "metadata": {
        "id": "mFj-iKvzhmLh",
        "colab_type": "text"
      },
      "source": [
        "# Now plotting graph of diabetes datasets\n"
      ]
    },
    {
      "cell_type": "code",
      "metadata": {
        "id": "isk300XmkNIV",
        "colab_type": "code",
        "colab": {}
      },
      "source": [
        "bmi = features[0:,2]\n",
        "abp = features[0:,3]"
      ],
      "execution_count": 0,
      "outputs": []
    },
    {
      "cell_type": "code",
      "metadata": {
        "id": "OBlFgB-Ckzvx",
        "colab_type": "code",
        "outputId": "7c42d6b0-081f-4eb9-fb1d-c789bac9f706",
        "colab": {
          "base_uri": "https://localhost:8080/",
          "height": 318
        }
      },
      "source": [
        "plt.xlabel(\"BMI\")\n",
        "plt.ylabel(\"AVERAGE_BP\")\n",
        "plt.scatter(bmi , abp ,  marker = \"+\")\n",
        "plt.legend()"
      ],
      "execution_count": 0,
      "outputs": [
        {
          "output_type": "stream",
          "text": [
            "No handles with labels found to put in legend.\n"
          ],
          "name": "stderr"
        },
        {
          "output_type": "execute_result",
          "data": {
            "text/plain": [
              "<matplotlib.legend.Legend at 0x7f11b1ed0198>"
            ]
          },
          "metadata": {
            "tags": []
          },
          "execution_count": 39
        },
        {
          "output_type": "display_data",
          "data": {
            "image/png": "[encoded data removed]",
            "text/plain": [
              "<Figure size 432x288 with 1 Axes>"
            ]
          },
          "metadata": {
            "tags": []
          }
        }
      ]
    },
    {
      "cell_type": "code",
      "metadata": {
        "id": "T9mt_0kRljlG",
        "colab_type": "code",
        "outputId": "c2fa5dc9-1969-44a3-e7b2-e61f0dc52b44",
        "colab": {
          "base_uri": "https://localhost:8080/",
          "height": 301
        }
      },
      "source": [
        "plt.xlabel(\"AGE\")\n",
        "plt.ylabel(\"BMI\")\n",
        "plt.scatter(features[0:,0] , features[0:,2] , color = \"orange\" , marker = \"\")"
      ],
      "execution_count": 0,
      "outputs": [
        {
          "output_type": "execute_result",
          "data": {
            "text/plain": [
              "<matplotlib.collections.PathCollection at 0x7f11af4bf6a0>"
            ]
          },
          "metadata": {
            "tags": []
          },
          "execution_count": 42
        },
        {
          "output_type": "display_data",
          "data": {
            "image/png": "[encoded data removed]",
            "text/plain": [
              "<Figure size 432x288 with 1 Axes>"
            ]
          },
          "metadata": {
            "tags": []
          }
        }
      ]
    },
    {
      "cell_type": "code",
      "metadata": {
        "id": "pX4Ix2T6mJ9K",
        "colab_type": "code",
        "outputId": "3af5a068-4906-4aae-c890-3308d3ed123b",
        "colab": {
          "base_uri": "https://localhost:8080/",
          "height": 301
        }
      },
      "source": [
        "plt.xlabel(\"AGE\")\n",
        "plt.ylabel(\"AVERAGE_BP\")\n",
        "plt.scatter(features[0:,0] , features[0:,3] , color = \"brown\" , marker =\"^\" )"
      ],
      "execution_count": 0,
      "outputs": [
        {
          "output_type": "execute_result",
          "data": {
            "text/plain": [
              "<matplotlib.collections.PathCollection at 0x7f11af2d9860>"
            ]
          },
          "metadata": {
            "tags": []
          },
          "execution_count": 48
        },
        {
          "output_type": "display_data",
          "data": {
            "image/png": "[encoded data removed]",
            "text/plain": [
              "<Figure size 432x288 with 1 Axes>"
            ]
          },
          "metadata": {
            "tags": []
          }
        }
      ]
    },
    {
      "cell_type": "code",
      "metadata": {
        "id": "1BU6ZWsRniEq",
        "colab_type": "code",
        "colab": {}
      },
      "source": [
        ""
      ],
      "execution_count": 0,
      "outputs": []
    }
  ]
}