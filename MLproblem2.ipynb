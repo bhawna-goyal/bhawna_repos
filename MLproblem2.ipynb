{
  "nbformat": 4,
  "nbformat_minor": 0,
  "metadata": {
    "colab": {
      "name": "MLproblem2",
      "version": "0.3.2",
      "provenance": []
    },
    "kernelspec": {
      "name": "python3",
      "display_name": "Python 3"
    }
  },
  "cells": [
    {
      "cell_type": "code",
      "metadata": {
        "id": "MjO23zqbeQj-",
        "colab_type": "code",
        "colab": {}
      },
      "source": [
        "import numpy as np"
      ],
      "execution_count": 0,
      "outputs": []
    },
    {
      "cell_type": "code",
      "metadata": {
        "id": "8EkppG8geYVS",
        "colab_type": "code",
        "outputId": "2f989880-c78a-4b05-e444-bab4e4320187",
        "colab": {
          "base_uri": "https://localhost:8080/",
          "height": 158
        }
      },
      "source": [
        "array=np.arange(100,200,5)[0:16].reshape(8,2)\n",
        "print(array)\n",
        "\n"
      ],
      "execution_count": 0,
      "outputs": [
        {
          "output_type": "stream",
          "text": [
            "[[100 105]\n",
            " [110 115]\n",
            " [120 125]\n",
            " [130 135]\n",
            " [140 145]\n",
            " [150 155]\n",
            " [160 165]\n",
            " [170 175]]\n"
          ],
          "name": "stdout"
        }
      ]
    },
    {
      "cell_type": "code",
      "metadata": {
        "id": "Aevk9LLLeZfP",
        "colab_type": "code",
        "colab": {}
      },
      "source": [
        ""
      ],
      "execution_count": 0,
      "outputs": []
    }
  ]
}