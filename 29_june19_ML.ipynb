{
  "nbformat": 4,
  "nbformat_minor": 0,
  "metadata": {
    "colab": {
      "name": "29 june19_ML",
      "version": "0.3.2",
      "provenance": [],
      "collapsed_sections": [],
      "toc_visible": true
    },
    "kernelspec": {
      "name": "python3",
      "display_name": "Python 3"
    }
  },
  "cells": [
    {
      "cell_type": "markdown",
      "metadata": {
        "id": "SB85rNL1ehqL",
        "colab_type": "text"
      },
      "source": [
        "# Random forest ----->>  "
      ]
    },
    {
      "cell_type": "code",
      "metadata": {
        "id": "9qPAoi7Ke5c2",
        "colab_type": "code",
        "colab": {}
      },
      "source": [
        "import pandas as pd"
      ],
      "execution_count": 0,
      "outputs": []
    },
    {
      "cell_type": "code",
      "metadata": {
        "id": "WO7-Cnoqfej7",
        "colab_type": "code",
        "colab": {}
      },
      "source": [
        "#loading data\n",
        "df = pd.read_csv(\"http://13.234.66.67/summer19/datasets/social.csv\")"
      ],
      "execution_count": 0,
      "outputs": []
    },
    {
      "cell_type": "code",
      "metadata": {
        "id": "rHZOWgCOf_dF",
        "colab_type": "code",
        "colab": {
          "base_uri": "https://localhost:8080/",
          "height": 193
        },
        "outputId": "4461d2e4-97f8-4d2e-b3e8-b2c1e4d64561"
      },
      "source": [
        "#print schema\n",
        "df.info()"
      ],
      "execution_count": 6,
      "outputs": [
        {
          "output_type": "stream",
          "text": [
            "<class 'pandas.core.frame.DataFrame'>\n",
            "RangeIndex: 400 entries, 0 to 399\n",
            "Data columns (total 5 columns):\n",
            "User ID            400 non-null int64\n",
            "Gender             400 non-null object\n",
            "Age                400 non-null int64\n",
            "EstimatedSalary    400 non-null int64\n",
            "Purchased          400 non-null int64\n",
            "dtypes: int64(4), object(1)\n",
            "memory usage: 15.7+ KB\n"
          ],
          "name": "stdout"
        }
      ]
    },
    {
      "cell_type": "code",
      "metadata": {
        "id": "iJfSjlMXgLRz",
        "colab_type": "code",
        "colab": {
          "base_uri": "https://localhost:8080/",
          "height": 195
        },
        "outputId": "a7c75067-3dd4-4f56-e142-f41110efe58e"
      },
      "source": [
        "df.head()    #top 5 rows"
      ],
      "execution_count": 7,
      "outputs": [
        {
          "output_type": "execute_result",
          "data": {
            "text/html": [
              "<div>\n",
              "<style scoped>\n",
              "    .dataframe tbody tr th:only-of-type {\n",
              "        vertical-align: middle;\n",
              "    }\n",
              "\n",
              "    .dataframe tbody tr th {\n",
              "        vertical-align: top;\n",
              "    }\n",
              "\n",
              "    .dataframe thead th {\n",
              "        text-align: right;\n",
              "    }\n",
              "</style>\n",
              "<table border=\"1\" class=\"dataframe\">\n",
              "  <thead>\n",
              "    <tr style=\"text-align: right;\">\n",
              "      <th></th>\n",
              "      <th>User ID</th>\n",
              "      <th>Gender</th>\n",
              "      <th>Age</th>\n",
              "      <th>EstimatedSalary</th>\n",
              "      <th>Purchased</th>\n",
              "    </tr>\n",
              "  </thead>\n",
              "  <tbody>\n",
              "    <tr>\n",
              "      <th>0</th>\n",
              "      <td>15624510</td>\n",
              "      <td>Male</td>\n",
              "      <td>19</td>\n",
              "      <td>19000</td>\n",
              "      <td>0</td>\n",
              "    </tr>\n",
              "    <tr>\n",
              "      <th>1</th>\n",
              "      <td>15810944</td>\n",
              "      <td>Male</td>\n",
              "      <td>35</td>\n",
              "      <td>20000</td>\n",
              "      <td>0</td>\n",
              "    </tr>\n",
              "    <tr>\n",
              "      <th>2</th>\n",
              "      <td>15668575</td>\n",
              "      <td>Female</td>\n",
              "      <td>26</td>\n",
              "      <td>43000</td>\n",
              "      <td>0</td>\n",
              "    </tr>\n",
              "    <tr>\n",
              "      <th>3</th>\n",
              "      <td>15603246</td>\n",
              "      <td>Female</td>\n",
              "      <td>27</td>\n",
              "      <td>57000</td>\n",
              "      <td>0</td>\n",
              "    </tr>\n",
              "    <tr>\n",
              "      <th>4</th>\n",
              "      <td>15804002</td>\n",
              "      <td>Male</td>\n",
              "      <td>19</td>\n",
              "      <td>76000</td>\n",
              "      <td>0</td>\n",
              "    </tr>\n",
              "  </tbody>\n",
              "</table>\n",
              "</div>"
            ],
            "text/plain": [
              "    User ID  Gender  Age  EstimatedSalary  Purchased\n",
              "0  15624510    Male   19            19000          0\n",
              "1  15810944    Male   35            20000          0\n",
              "2  15668575  Female   26            43000          0\n",
              "3  15603246  Female   27            57000          0\n",
              "4  15804002    Male   19            76000          0"
            ]
          },
          "metadata": {
            "tags": []
          },
          "execution_count": 7
        }
      ]
    },
    {
      "cell_type": "code",
      "metadata": {
        "id": "glIYpsFUgVEu",
        "colab_type": "code",
        "colab": {}
      },
      "source": [
        "# removing user iD\n",
        "filterdata = df.iloc[0:,1:]"
      ],
      "execution_count": 0,
      "outputs": []
    },
    {
      "cell_type": "code",
      "metadata": {
        "id": "FIZf66Htgm2P",
        "colab_type": "code",
        "colab": {
          "base_uri": "https://localhost:8080/",
          "height": 195
        },
        "outputId": "20323dd6-38ef-42d3-cf85-fc343012cc69"
      },
      "source": [
        "filterdata.head()"
      ],
      "execution_count": 9,
      "outputs": [
        {
          "output_type": "execute_result",
          "data": {
            "text/html": [
              "<div>\n",
              "<style scoped>\n",
              "    .dataframe tbody tr th:only-of-type {\n",
              "        vertical-align: middle;\n",
              "    }\n",
              "\n",
              "    .dataframe tbody tr th {\n",
              "        vertical-align: top;\n",
              "    }\n",
              "\n",
              "    .dataframe thead th {\n",
              "        text-align: right;\n",
              "    }\n",
              "</style>\n",
              "<table border=\"1\" class=\"dataframe\">\n",
              "  <thead>\n",
              "    <tr style=\"text-align: right;\">\n",
              "      <th></th>\n",
              "      <th>Gender</th>\n",
              "      <th>Age</th>\n",
              "      <th>EstimatedSalary</th>\n",
              "      <th>Purchased</th>\n",
              "    </tr>\n",
              "  </thead>\n",
              "  <tbody>\n",
              "    <tr>\n",
              "      <th>0</th>\n",
              "      <td>Male</td>\n",
              "      <td>19</td>\n",
              "      <td>19000</td>\n",
              "      <td>0</td>\n",
              "    </tr>\n",
              "    <tr>\n",
              "      <th>1</th>\n",
              "      <td>Male</td>\n",
              "      <td>35</td>\n",
              "      <td>20000</td>\n",
              "      <td>0</td>\n",
              "    </tr>\n",
              "    <tr>\n",
              "      <th>2</th>\n",
              "      <td>Female</td>\n",
              "      <td>26</td>\n",
              "      <td>43000</td>\n",
              "      <td>0</td>\n",
              "    </tr>\n",
              "    <tr>\n",
              "      <th>3</th>\n",
              "      <td>Female</td>\n",
              "      <td>27</td>\n",
              "      <td>57000</td>\n",
              "      <td>0</td>\n",
              "    </tr>\n",
              "    <tr>\n",
              "      <th>4</th>\n",
              "      <td>Male</td>\n",
              "      <td>19</td>\n",
              "      <td>76000</td>\n",
              "      <td>0</td>\n",
              "    </tr>\n",
              "  </tbody>\n",
              "</table>\n",
              "</div>"
            ],
            "text/plain": [
              "   Gender  Age  EstimatedSalary  Purchased\n",
              "0    Male   19            19000          0\n",
              "1    Male   35            20000          0\n",
              "2  Female   26            43000          0\n",
              "3  Female   27            57000          0\n",
              "4    Male   19            76000          0"
            ]
          },
          "metadata": {
            "tags": []
          },
          "execution_count": 9
        }
      ]
    },
    {
      "cell_type": "code",
      "metadata": {
        "id": "rVh2QuPkgp23",
        "colab_type": "code",
        "colab": {}
      },
      "source": [
        "#filterdata = df.iloc[0:,2:]     ---->>> this is because it needs of label encoding for labeling male and female .\n",
        "# so here we removed the column that require label encoding\n",
        "filterdata = df.iloc[0:,2:].values"
      ],
      "execution_count": 0,
      "outputs": []
    },
    {
      "cell_type": "markdown",
      "metadata": {
        "id": "F5dabmbGhxRF",
        "colab_type": "text"
      },
      "source": [
        "# FEATURE SCALING --> similar range of data is used in this \n",
        "eg - >  age =19 and salaary 1900000 \n",
        "            both are not out of range because salary haave more priority here\n",
        "            so by the use of this , we used the data within our range \n",
        "            "
      ]
    },
    {
      "cell_type": "code",
      "metadata": {
        "id": "VuJslpWbhQP_",
        "colab_type": "code",
        "colab": {}
      },
      "source": [
        "#now we can apply training test\n",
        "features = filterdata[0:,0:2]"
      ],
      "execution_count": 0,
      "outputs": []
    },
    {
      "cell_type": "code",
      "metadata": {
        "id": "adTkHp0ohjca",
        "colab_type": "code",
        "colab": {}
      },
      "source": [
        "#label finding\n",
        "label = filterdata[0:,2]"
      ],
      "execution_count": 0,
      "outputs": []
    },
    {
      "cell_type": "code",
      "metadata": {
        "id": "HC9uEGPqhpRk",
        "colab_type": "code",
        "colab": {}
      },
      "source": [
        "# TRAINING AND TESTING \n",
        "from sklearn.model_selection import train_test_split"
      ],
      "execution_count": 0,
      "outputs": []
    },
    {
      "cell_type": "code",
      "metadata": {
        "id": "Th-X-Yafh994",
        "colab_type": "code",
        "colab": {}
      },
      "source": [
        "X ,x,Y,y = train_test_split(features , label , test_size=0.2)"
      ],
      "execution_count": 0,
      "outputs": []
    },
    {
      "cell_type": "code",
      "metadata": {
        "id": "rPCqQHO-iPWB",
        "colab_type": "code",
        "colab": {}
      },
      "source": [
        "# now apply feature scaling \n",
        "from sklearn.preprocessing import StandardScaler"
      ],
      "execution_count": 0,
      "outputs": []
    },
    {
      "cell_type": "markdown",
      "metadata": {
        "id": "_YZf2cYriWPM",
        "colab_type": "text"
      },
      "source": [
        "# make this a habit --> on every datasets , first we check label encoding , dummy variable , --onhot encoding , now divide in train and test and then apply  features scaling then add any classifier which you want.\n"
      ]
    },
    {
      "cell_type": "code",
      "metadata": {
        "id": "bSloOx7qi2dr",
        "colab_type": "code",
        "colab": {}
      },
      "source": [
        "sc = StandardScaler()"
      ],
      "execution_count": 0,
      "outputs": []
    },
    {
      "cell_type": "code",
      "metadata": {
        "id": "UMaS_2fpi61A",
        "colab_type": "code",
        "colab": {}
      },
      "source": [
        "#apply scaling in training data only  \n",
        "X = sc.fit_transform(X)   # X is data after feature scale , when it goes to classifier then it matches with the label and get train . so here we used fit_transform.\n",
        "#and for testing data we only fit not transform"
      ],
      "execution_count": 0,
      "outputs": []
    },
    {
      "cell_type": "code",
      "metadata": {
        "id": "hnBljT3_jKxd",
        "colab_type": "code",
        "colab": {
          "base_uri": "https://localhost:8080/",
          "height": 1000
        },
        "outputId": "58df71cd-a334-4987-b1f6-da5611dc989d"
      },
      "source": [
        "X"
      ],
      "execution_count": 18,
      "outputs": [
        {
          "output_type": "execute_result",
          "data": {
            "text/plain": [
              "array([[-0.49375545, -0.84465936],\n",
              "       [ 0.17493392,  0.22631588],\n",
              "       [ 1.89442087, -0.6709877 ],\n",
              "       [-0.30270135, -1.36567435],\n",
              "       [-1.73560714, -0.61309715],\n",
              "       [ 0.36598802, -0.46837076],\n",
              "       [ 0.65256918, -1.39461962],\n",
              "       [ 0.07940686, -0.81571408],\n",
              "       [-0.3982284 ,  1.29729113],\n",
              "       [ 0.27046097,  0.02369895],\n",
              "       [-0.49375545, -0.55520659],\n",
              "       [-0.30270135,  0.13948005],\n",
              "       [-0.97139072, -0.32364438],\n",
              "       [ 1.4167856 ,  0.97889308],\n",
              "       [ 1.03467739, -0.14997272],\n",
              "       [-0.2071743 , -0.52626132],\n",
              "       [ 0.27046097,  0.05264422],\n",
              "       [ 0.27046097, -0.2946991 ],\n",
              "       [-0.11164724,  0.02369895],\n",
              "       [ 0.07940686,  0.02369895],\n",
              "       [-0.3982284 , -1.30778379],\n",
              "       [ 2.08547497,  0.37104227],\n",
              "       [ 1.32125855,  1.26834585],\n",
              "       [-0.11164724,  0.13948005],\n",
              "       [ 0.07940686,  0.13948005],\n",
              "       [-0.30270135, -0.93149519],\n",
              "       [-0.68480956,  0.54471393],\n",
              "       [ 0.07940686, -0.26575382],\n",
              "       [ 0.74809623, -1.36567435],\n",
              "       [-0.30270135, -0.38153493],\n",
              "       [-0.87586367, -0.78676881],\n",
              "       [-1.35349893, -0.43942549],\n",
              "       [ 0.84362329, -0.55520659],\n",
              "       [-0.30270135, -0.14997272],\n",
              "       [-1.44902598,  0.34209699],\n",
              "       [ 0.93915034,  0.74733087],\n",
              "       [-1.25797188,  0.28420644],\n",
              "       [-0.30270135,  0.77627615],\n",
              "       [ 0.17493392, -0.26575382],\n",
              "       [ 0.27046097, -0.52626132],\n",
              "       [-0.2071743 ,  1.61568918],\n",
              "       [-0.68480956, -1.51040073],\n",
              "       [ 0.93915034, -1.07622158],\n",
              "       [-0.11164724,  1.93408722],\n",
              "       [-1.92666125, -0.52626132],\n",
              "       [-0.01612019,  0.28420644],\n",
              "       [-0.30270135,  0.60260448],\n",
              "       [ 0.84362329,  2.13670416],\n",
              "       [-1.73560714, -1.36567435],\n",
              "       [ 0.36598802, -0.14997272],\n",
              "       [-0.58928251, -1.51040073],\n",
              "       [ 1.70336676, -0.2946991 ],\n",
              "       [-1.64008009,  0.05264422],\n",
              "       [-1.06691777,  0.74733087],\n",
              "       [-0.01612019,  0.02369895],\n",
              "       [ 0.36598802, -0.14997272],\n",
              "       [-0.11164724, -0.52626132],\n",
              "       [-0.68480956, -0.12102744],\n",
              "       [ 0.17493392, -0.6709877 ],\n",
              "       [ 1.4167856 ,  2.10775888],\n",
              "       [ 0.65256918, -1.39461962],\n",
              "       [-0.2071743 ,  1.5867439 ],\n",
              "       [-0.30270135, -0.58415187],\n",
              "       [ 0.17493392, -0.32364438],\n",
              "       [-0.87586367,  2.25248527],\n",
              "       [-1.83113419, -0.00524633],\n",
              "       [-0.30270135, -0.32364438],\n",
              "       [-0.2071743 , -0.20786327],\n",
              "       [ 1.79889381,  0.11053478],\n",
              "       [ 0.07940686, -0.81571408],\n",
              "       [ 1.03467739,  0.51576865],\n",
              "       [-0.97139072,  1.52885334],\n",
              "       [ 1.51231265,  1.09467419],\n",
              "       [-0.11164724,  0.66049504],\n",
              "       [ 0.84362329,  1.00783836],\n",
              "       [ 0.93915034,  1.9630325 ],\n",
              "       [-0.11164724,  0.11053478],\n",
              "       [ 1.70336676,  1.81830611],\n",
              "       [-1.16244482, -0.78676881],\n",
              "       [ 1.79889381, -1.27883852],\n",
              "       [-0.97139072, -0.32364438],\n",
              "       [ 0.84362329, -1.45251018],\n",
              "       [-1.64008009, -1.56829128],\n",
              "       [ 0.74809623,  0.74733087],\n",
              "       [-0.68480956,  1.38412696],\n",
              "       [ 0.36598802, -0.46837076],\n",
              "       [-1.06691777, -0.35258965],\n",
              "       [-0.2071743 , -0.2946991 ],\n",
              "       [-0.01612019,  1.2104553 ],\n",
              "       [-1.92666125,  0.34209699],\n",
              "       [ 0.93915034, -1.07622158],\n",
              "       [-0.01612019, -0.58415187],\n",
              "       [ 0.07940686,  0.19737061],\n",
              "       [-0.30270135, -0.2946991 ],\n",
              "       [-0.78033661, -0.23680855],\n",
              "       [ 0.27046097, -0.20786327],\n",
              "       [ 0.07940686, -0.32364438],\n",
              "       [ 1.51231265, -0.00524633],\n",
              "       [ 0.93915034,  0.57365921],\n",
              "       [ 0.07940686,  0.0815895 ],\n",
              "       [ 0.07940686,  1.84725139],\n",
              "       [ 0.84362329,  1.23940058],\n",
              "       [-1.16244482,  0.39998755],\n",
              "       [-0.87586367, -0.6709877 ],\n",
              "       [-0.30270135, -1.45251018],\n",
              "       [-1.73560714,  0.34209699],\n",
              "       [-1.16244482, -1.59723656],\n",
              "       [-0.2071743 ,  2.13670416],\n",
              "       [ 1.32125855, -1.4235649 ],\n",
              "       [ 1.89442087,  0.89205725],\n",
              "       [-0.3982284 ,  1.2104553 ],\n",
              "       [-0.30270135, -0.6709877 ],\n",
              "       [ 1.13020444, -0.75782353],\n",
              "       [ 0.17493392,  2.07881361],\n",
              "       [-0.11164724,  0.28420644],\n",
              "       [-0.2071743 ,  0.13948005],\n",
              "       [-0.01612019, -0.26575382],\n",
              "       [ 0.65256918, -1.27883852],\n",
              "       [-1.35349893,  0.54471393],\n",
              "       [ 0.93915034, -1.19200268],\n",
              "       [-1.16244482, -1.53934601],\n",
              "       [ 0.65256918, -0.72887825],\n",
              "       [-1.44902598, -0.20786327],\n",
              "       [-0.30270135,  0.05264422],\n",
              "       [ 0.17493392,  0.13948005],\n",
              "       [-0.97139072, -0.96044047],\n",
              "       [-0.30270135,  0.25526116],\n",
              "       [ 0.36598802, -0.00524633],\n",
              "       [-1.92666125, -0.06313689],\n",
              "       [ 0.17493392,  0.05264422],\n",
              "       [ 1.98994792, -1.19200268],\n",
              "       [-0.87586367, -0.26575382],\n",
              "       [ 1.98994792,  0.37104227],\n",
              "       [ 1.2257315 ,  1.84725139],\n",
              "       [ 0.74809623,  0.11053478],\n",
              "       [-0.11164724, -1.07622158],\n",
              "       [-0.11164724,  0.28420644],\n",
              "       [-0.97139072, -0.75782353],\n",
              "       [ 0.93915034,  2.04986833],\n",
              "       [ 1.4167856 ,  0.05264422],\n",
              "       [-0.58928251,  1.44201751],\n",
              "       [-0.11164724,  0.25526116],\n",
              "       [-0.87586367,  0.28420644],\n",
              "       [-0.11164724,  0.19737061],\n",
              "       [-1.73560714,  0.11053478],\n",
              "       [-1.83113419,  0.42893282],\n",
              "       [ 1.03467739, -0.98938575],\n",
              "       [ 0.55704213,  1.99197778],\n",
              "       [-0.49375545, -0.78676881],\n",
              "       [-0.01612019, -0.55520659],\n",
              "       [-0.78033661,  1.32623641],\n",
              "       [-0.78033661,  0.25526116],\n",
              "       [ 1.13020444, -0.98938575],\n",
              "       [ 0.65256918, -1.10516685],\n",
              "       [ 0.93915034, -1.01833102],\n",
              "       [ 0.17493392, -0.2946991 ],\n",
              "       [-1.25797188, -1.39461962],\n",
              "       [ 1.98994792,  1.73147028],\n",
              "       [-0.30270135,  2.22353999],\n",
              "       [-0.11164724,  2.19459471],\n",
              "       [ 1.4167856 ,  0.34209699],\n",
              "       [-0.30270135, -0.75782353],\n",
              "       [ 0.36598802, -0.49731604],\n",
              "       [-0.68480956,  0.02369895],\n",
              "       [-0.58928251,  1.35518168],\n",
              "       [-0.78033661,  0.54471393],\n",
              "       [ 1.60783971, -0.90254992],\n",
              "       [-1.83113419, -1.48145545],\n",
              "       [-1.25797188,  0.48682338],\n",
              "       [-0.01612019,  0.02369895],\n",
              "       [ 0.84362329, -0.58415187],\n",
              "       [-0.30270135, -0.43942549],\n",
              "       [-1.35349893, -0.43942549],\n",
              "       [ 0.17493392, -0.38153493],\n",
              "       [ 0.46151507,  1.81830611],\n",
              "       [ 0.84362329, -1.36567435],\n",
              "       [-0.30270135,  0.19737061],\n",
              "       [ 1.4167856 , -1.0472763 ],\n",
              "       [-1.35349893,  0.39998755],\n",
              "       [-1.44902598, -1.45251018],\n",
              "       [-1.44902598, -0.12102744],\n",
              "       [ 2.08547497, -0.81571408],\n",
              "       [-0.3982284 ,  0.05264422],\n",
              "       [-1.16244482, -1.01833102],\n",
              "       [-1.92666125,  0.4578781 ],\n",
              "       [-0.11164724,  0.05264422],\n",
              "       [-1.83113419, -1.4235649 ],\n",
              "       [ 1.79889381, -0.2946991 ],\n",
              "       [ 1.2257315 ,  2.19459471],\n",
              "       [-0.11164724, -0.00524633],\n",
              "       [ 1.98994792, -0.81571408],\n",
              "       [-0.97139072, -1.10516685],\n",
              "       [ 0.74809623,  0.51576865],\n",
              "       [ 0.27046097, -0.52626132],\n",
              "       [ 1.03467739,  0.11053478],\n",
              "       [ 0.84362329, -1.30778379],\n",
              "       [-0.30270135, -0.49731604],\n",
              "       [-0.68480956,  0.16842533],\n",
              "       [ 0.27046097,  0.05264422],\n",
              "       [ 0.36598802, -0.17891799],\n",
              "       [-1.83113419, -1.30778379],\n",
              "       [ 1.89442087, -0.93149519],\n",
              "       [ 1.98994792,  2.10775888],\n",
              "       [-0.30270135, -0.35258965],\n",
              "       [ 0.93915034, -0.84465936],\n",
              "       [-1.16244482, -1.10516685],\n",
              "       [-1.35349893, -1.48145545],\n",
              "       [-0.97139072,  0.54471393],\n",
              "       [-1.73560714,  0.4578781 ],\n",
              "       [ 1.13020444,  0.51576865],\n",
              "       [ 1.03467739,  0.54471393],\n",
              "       [-0.49375545,  2.28143054],\n",
              "       [-0.30270135, -1.24989324],\n",
              "       [-0.49375545, -1.22094796],\n",
              "       [ 0.65256918,  1.76041556],\n",
              "       [ 0.84362329, -0.6709877 ],\n",
              "       [-1.25797188,  0.25526116],\n",
              "       [-0.68480956, -0.35258965],\n",
              "       [ 0.84362329,  1.06572891],\n",
              "       [ 1.98994792,  0.51576865],\n",
              "       [ 0.17493392,  0.02369895],\n",
              "       [ 0.36598802,  0.28420644],\n",
              "       [ 0.36598802,  0.28420644],\n",
              "       [ 0.93915034, -1.16305741],\n",
              "       [ 1.89442087,  0.71838559],\n",
              "       [ 1.32125855, -0.93149519],\n",
              "       [ 1.70336676,  0.97889308],\n",
              "       [-1.06691777,  1.93408722],\n",
              "       [-0.87586367, -0.78676881],\n",
              "       [ 0.17493392, -0.38153493],\n",
              "       [-0.78033661, -1.53934601],\n",
              "       [ 2.08547497, -0.81571408],\n",
              "       [-1.35349893, -1.36567435],\n",
              "       [-0.2071743 ,  0.8341667 ],\n",
              "       [-0.49375545, -0.2946991 ],\n",
              "       [-0.49375545,  1.23940058],\n",
              "       [ 0.07940686,  1.84725139],\n",
              "       [ 2.08547497,  0.92100253],\n",
              "       [-0.87586367, -1.22094796],\n",
              "       [-0.30270135, -0.58415187],\n",
              "       [-1.16244482,  0.31315171],\n",
              "       [ 1.51231265, -1.27883852],\n",
              "       [-0.11164724,  0.22631588],\n",
              "       [-1.06691777, -1.45251018],\n",
              "       [-1.06691777,  0.57365921],\n",
              "       [-0.30270135,  0.51576865],\n",
              "       [ 0.93915034,  1.84725139],\n",
              "       [-0.87586367,  0.37104227],\n",
              "       [ 0.65256918,  0.25526116],\n",
              "       [-0.01612019, -0.43942549],\n",
              "       [ 0.93915034,  0.11053478],\n",
              "       [-1.35349893, -1.10516685],\n",
              "       [-1.06691777,  0.54471393],\n",
              "       [-0.58928251,  0.4578781 ],\n",
              "       [-0.78033661,  1.87619667],\n",
              "       [-0.2071743 , -0.46837076],\n",
              "       [ 0.17493392, -0.14997272],\n",
              "       [-0.30270135, -1.30778379],\n",
              "       [ 0.36598802,  0.13948005],\n",
              "       [ 1.03467739, -1.22094796],\n",
              "       [ 0.84362329, -1.16305741],\n",
              "       [-1.06691777, -0.35258965],\n",
              "       [ 0.07940686,  0.02369895],\n",
              "       [-0.11164724, -0.49731604],\n",
              "       [ 1.32125855,  2.31037582],\n",
              "       [-1.73560714, -0.98938575],\n",
              "       [-0.01612019, -0.32364438],\n",
              "       [ 0.27046097, -0.55520659],\n",
              "       [-1.16244482,  0.28420644],\n",
              "       [ 0.74809623, -0.32364438],\n",
              "       [-0.97139072, -0.43942549],\n",
              "       [ 0.84362329, -1.0472763 ],\n",
              "       [-0.97139072,  0.42893282],\n",
              "       [ 0.84362329, -0.78676881],\n",
              "       [ 0.46151507,  1.70252501],\n",
              "       [ 1.03467739, -0.90254992],\n",
              "       [-0.01612019, -0.58415187],\n",
              "       [ 0.07940686,  1.49990807],\n",
              "       [ 1.79889381,  1.49990807],\n",
              "       [ 0.27046097,  0.05264422],\n",
              "       [ 0.27046097,  0.48682338],\n",
              "       [ 0.74809623, -1.39461962],\n",
              "       [-0.2071743 ,  1.38412696],\n",
              "       [ 0.84362329, -0.61309715],\n",
              "       [ 1.2257315 , -1.36567435],\n",
              "       [ 0.74809623,  1.35518168],\n",
              "       [-1.92666125, -0.75782353],\n",
              "       [ 0.36598802,  2.28143054],\n",
              "       [-1.54455304, -0.20786327],\n",
              "       [ 0.46151507,  1.2104553 ],\n",
              "       [-0.2071743 , -0.58415187],\n",
              "       [-1.06691777, -1.53934601],\n",
              "       [-0.78033661,  1.06572891],\n",
              "       [-0.3982284 , -0.78676881],\n",
              "       [-0.97139072,  0.25526116],\n",
              "       [ 1.03467739, -1.22094796],\n",
              "       [-0.49375545, -1.13411213],\n",
              "       [-0.58928251,  1.87619667],\n",
              "       [-1.06691777,  0.51576865],\n",
              "       [ 2.08547497,  1.09467419],\n",
              "       [-0.58928251,  2.31037582],\n",
              "       [-0.01612019, -0.26575382],\n",
              "       [ 1.60783971,  1.73147028],\n",
              "       [-0.68480956, -0.06313689],\n",
              "       [-1.35349893, -1.24989324],\n",
              "       [-1.54455304, -1.51040073],\n",
              "       [-1.83113419, -1.27883852],\n",
              "       [ 2.08547497, -1.0472763 ],\n",
              "       [-0.3982284 , -0.78676881],\n",
              "       [-0.30270135,  0.13948005],\n",
              "       [ 0.17493392,  1.06572891],\n",
              "       [-0.30270135,  0.05264422],\n",
              "       [ 1.03467739,  2.04986833],\n",
              "       [ 1.32125855,  0.57365921],\n",
              "       [-0.78033661, -0.61309715],\n",
              "       [ 1.03467739,  0.4578781 ],\n",
              "       [-1.06691777,  0.39998755],\n",
              "       [ 1.13020444, -1.45251018],\n",
              "       [-0.58928251,  0.86311198],\n",
              "       [ 0.93915034,  1.41307224]])"
            ]
          },
          "metadata": {
            "tags": []
          },
          "execution_count": 18
        }
      ]
    },
    {
      "cell_type": "code",
      "metadata": {
        "id": "vz6I9ANajLo2",
        "colab_type": "code",
        "colab": {}
      },
      "source": [
        "# testing data scaling\n",
        "from sklearn.preprocessing import StandardScaler\n",
        "x=sc.transform(x)"
      ],
      "execution_count": 0,
      "outputs": []
    },
    {
      "cell_type": "code",
      "metadata": {
        "id": "xUI8Jbc_lp22",
        "colab_type": "code",
        "colab": {
          "base_uri": "https://localhost:8080/",
          "height": 34
        },
        "outputId": "0c1f4fa3-6d07-4ea6-b7bf-695195201401"
      },
      "source": [
        "type(x)"
      ],
      "execution_count": 20,
      "outputs": [
        {
          "output_type": "execute_result",
          "data": {
            "text/plain": [
              "numpy.ndarray"
            ]
          },
          "metadata": {
            "tags": []
          },
          "execution_count": 20
        }
      ]
    },
    {
      "cell_type": "code",
      "metadata": {
        "id": "fIYGhCM4kR9W",
        "colab_type": "code",
        "colab": {}
      },
      "source": [
        "# KNN\n",
        "from sklearn.neighbors import KNeighborsClassifier\n",
        "from sklearn.ensemble import RandomForestClassifier  #ensemble = by repitation of any things, it trained out data\n"
      ],
      "execution_count": 0,
      "outputs": []
    },
    {
      "cell_type": "code",
      "metadata": {
        "id": "Qgn90hKRkjaL",
        "colab_type": "code",
        "colab": {}
      },
      "source": [
        "# calling random forest with number of decision tree .... first we make forests of tree and then multiple tree or best trained tree combined to make our result.\n",
        "rclf  = RandomForestClassifier(n_estimators=20)"
      ],
      "execution_count": 0,
      "outputs": []
    },
    {
      "cell_type": "code",
      "metadata": {
        "id": "1B1yGRTLk-38",
        "colab_type": "code",
        "colab": {}
      },
      "source": [
        "# now training\n",
        "trained = rclf.fit(X,Y)"
      ],
      "execution_count": 0,
      "outputs": []
    },
    {
      "cell_type": "code",
      "metadata": {
        "id": "sEbcYCtYlT47",
        "colab_type": "code",
        "colab": {}
      },
      "source": [
        "#now predicting\n",
        "output = trained.predict(x)"
      ],
      "execution_count": 0,
      "outputs": []
    },
    {
      "cell_type": "code",
      "metadata": {
        "id": "GZERDZdllbUJ",
        "colab_type": "code",
        "colab": {
          "base_uri": "https://localhost:8080/",
          "height": 87
        },
        "outputId": "1c03d794-4790-403f-f92d-d2175013a6cf"
      },
      "source": [
        "y    #actual"
      ],
      "execution_count": 25,
      "outputs": [
        {
          "output_type": "execute_result",
          "data": {
            "text/plain": [
              "array([1, 1, 0, 1, 0, 0, 0, 1, 1, 1, 0, 0, 0, 0, 1, 0, 0, 0, 1, 0, 0, 0,\n",
              "       1, 0, 0, 1, 0, 0, 0, 0, 1, 1, 0, 0, 1, 0, 0, 1, 0, 1, 0, 0, 0, 0,\n",
              "       0, 1, 0, 0, 1, 0, 0, 1, 0, 0, 1, 0, 0, 1, 0, 0, 0, 1, 0, 0, 0, 0,\n",
              "       0, 0, 0, 0, 0, 0, 1, 0, 0, 0, 0, 0, 0, 0])"
            ]
          },
          "metadata": {
            "tags": []
          },
          "execution_count": 25
        }
      ]
    },
    {
      "cell_type": "code",
      "metadata": {
        "id": "evS3iR0LmeSs",
        "colab_type": "code",
        "colab": {
          "base_uri": "https://localhost:8080/",
          "height": 87
        },
        "outputId": "470d4a88-8b6f-49a5-a30a-656651a2896b"
      },
      "source": [
        "output #predicted"
      ],
      "execution_count": 26,
      "outputs": [
        {
          "output_type": "execute_result",
          "data": {
            "text/plain": [
              "array([1, 1, 0, 1, 0, 0, 0, 0, 1, 1, 0, 0, 0, 1, 1, 0, 0, 0, 0, 1, 0, 0,\n",
              "       1, 0, 0, 1, 0, 0, 0, 0, 1, 1, 0, 0, 1, 0, 0, 1, 0, 1, 0, 0, 1, 0,\n",
              "       0, 1, 0, 0, 0, 0, 0, 1, 0, 0, 1, 0, 0, 1, 0, 0, 0, 0, 0, 0, 0, 0,\n",
              "       0, 0, 1, 0, 0, 0, 1, 0, 0, 0, 0, 0, 0, 0])"
            ]
          },
          "metadata": {
            "tags": []
          },
          "execution_count": 26
        }
      ]
    },
    {
      "cell_type": "markdown",
      "metadata": {
        "id": "Q9INk0gAoALa",
        "colab_type": "text"
      },
      "source": [
        "# SUMMARY \n",
        "supervised --> label encoding , onehot , train test  , scaling\n"
      ]
    },
    {
      "cell_type": "markdown",
      "metadata": {
        "id": "7FuBpTuAoLSK",
        "colab_type": "text"
      },
      "source": [
        "# COMPUTER VISION  ------------------------------------->>>>>>>>>\n",
        " we will give eyes to the computer and we give mind by supervised or neural network technology. By doing visualization it will take input and on the behalf of that  it will train the datasets. we will need of camera for doing this work.\n",
        " we will take  data by  -  images , videos , gif , animated video , emoji.\n",
        "---->> image - collection of number of rows and columns. More the rows , more the heights and the More the columns , more the widths . \n",
        "------>>pixel can be RGB and BGR(value range from 0-255).when all pixels are 0 then it means black and when the all pixels are 255 means white. if we want blue color then in BGR er do 255,0,0. "
      ]
    },
    {
      "cell_type": "markdown",
      "metadata": {
        "id": "LfQl_juYr0KJ",
        "colab_type": "text"
      },
      "source": [
        "# ques.    write a code that sysetm should tell major color of picture means in each BGR and RGB check the pixels of each cell and detct the color with major occurance.\n"
      ]
    },
    {
      "cell_type": "code",
      "metadata": {
        "id": "vNOg1V6UqX_c",
        "colab_type": "code",
        "colab": {
          "base_uri": "https://localhost:8080/",
          "height": 140
        },
        "outputId": "29e048f1-a872-4279-dece-5080b186ed00"
      },
      "source": [
        "import numpy as np\n",
        "np.zeros((400,300))     #400 and 300 are dimesnions which  means 400 = rows and 300 = colmns"
      ],
      "execution_count": 27,
      "outputs": [
        {
          "output_type": "execute_result",
          "data": {
            "text/plain": [
              "array([[0., 0., 0., ..., 0., 0., 0.],\n",
              "       [0., 0., 0., ..., 0., 0., 0.],\n",
              "       [0., 0., 0., ..., 0., 0., 0.],\n",
              "       ...,\n",
              "       [0., 0., 0., ..., 0., 0., 0.],\n",
              "       [0., 0., 0., ..., 0., 0., 0.],\n",
              "       [0., 0., 0., ..., 0., 0., 0.]])"
            ]
          },
          "metadata": {
            "tags": []
          },
          "execution_count": 27
        }
      ]
    },
    {
      "cell_type": "code",
      "metadata": {
        "id": "GymuTmB-sstp",
        "colab_type": "code",
        "colab": {
          "base_uri": "https://localhost:8080/",
          "height": 140
        },
        "outputId": "c4b95231-5817-419f-df89-11f7954195d9"
      },
      "source": [
        "#when we save it and view by image viewer or by paint , it will show black color image \n",
        "# and for white color images :-\n",
        "np.full((400,300),255)    "
      ],
      "execution_count": 28,
      "outputs": [
        {
          "output_type": "execute_result",
          "data": {
            "text/plain": [
              "array([[255, 255, 255, ..., 255, 255, 255],\n",
              "       [255, 255, 255, ..., 255, 255, 255],\n",
              "       [255, 255, 255, ..., 255, 255, 255],\n",
              "       ...,\n",
              "       [255, 255, 255, ..., 255, 255, 255],\n",
              "       [255, 255, 255, ..., 255, 255, 255],\n",
              "       [255, 255, 255, ..., 255, 255, 255]])"
            ]
          },
          "metadata": {
            "tags": []
          },
          "execution_count": 28
        }
      ]
    },
    {
      "cell_type": "code",
      "metadata": {
        "id": "w0lpuR3dtHJk",
        "colab_type": "code",
        "colab": {}
      },
      "source": [
        "# when we will do maximm zoom of image ,the smallest unit of image will come is pixel. and the color is from BGR\n"
      ],
      "execution_count": 0,
      "outputs": []
    },
    {
      "cell_type": "markdown",
      "metadata": {
        "id": "SVPM55qOtqwc",
        "colab_type": "text"
      },
      "source": [
        "#IMAGE MANAGEMENT:- \n",
        "1. GAN - powerful libraries to process images. \n",
        "2. openCV   library in c++.  also work by using python.\n",
        "both are image processing engine.\n",
        "for doing this , we will use javascript code for colab to access camera.\n",
        "now on REDHAT:-\n",
        "sudo pip3 install opencv-contrib-python\n",
        "sudo pip3 install numpy\n",
        "we will not be able to do work on colabs and aws for this."
      ]
    },
    {
      "cell_type": "code",
      "metadata": {
        "id": "wJYjg_w8u7ph",
        "colab_type": "code",
        "colab": {}
      },
      "source": [
        "import cv2"
      ],
      "execution_count": 0,
      "outputs": []
    },
    {
      "cell_type": "code",
      "metadata": {
        "id": "wdJnQxzOu8vd",
        "colab_type": "code",
        "colab": {
          "base_uri": "https://localhost:8080/",
          "height": 34
        },
        "outputId": "c50431a1-0522-4ee6-da14-f83906e3b2fd"
      },
      "source": [
        "#checking the version\n",
        "cv2.__version__"
      ],
      "execution_count": 30,
      "outputs": [
        {
          "output_type": "execute_result",
          "data": {
            "text/plain": [
              "'3.4.3'"
            ]
          },
          "metadata": {
            "tags": []
          },
          "execution_count": 30
        }
      ]
    },
    {
      "cell_type": "code",
      "metadata": {
        "id": "6kivyKzSxoFS",
        "colab_type": "code",
        "colab": {}
      },
      "source": [
        "#image reading\n",
        " img = cv2.imread('cofee.jpg')\n",
        " # or we also upload the image ."
      ],
      "execution_count": 0,
      "outputs": []
    },
    {
      "cell_type": "code",
      "metadata": {
        "id": "YWSOCz4NyAVN",
        "colab_type": "code",
        "colab": {}
      },
      "source": [
        "img"
      ],
      "execution_count": 0,
      "outputs": []
    },
    {
      "cell_type": "code",
      "metadata": {
        "id": "fQ60mjAOyKZ6",
        "colab_type": "code",
        "colab": {
          "base_uri": "https://localhost:8080/",
          "height": 34
        },
        "outputId": "69aea141-e1d1-4b53-83be-93857b8ae99a"
      },
      "source": [
        "type(img)"
      ],
      "execution_count": 33,
      "outputs": [
        {
          "output_type": "execute_result",
          "data": {
            "text/plain": [
              "NoneType"
            ]
          },
          "metadata": {
            "tags": []
          },
          "execution_count": 33
        }
      ]
    },
    {
      "cell_type": "code",
      "metadata": {
        "id": "yT7WrW7byTaV",
        "colab_type": "code",
        "colab": {
          "base_uri": "https://localhost:8080/",
          "height": 167
        },
        "outputId": "cb6e6e1d-0e83-4cc4-fa17-945c1afeb59c"
      },
      "source": [
        "#print shape        #give hieght , width , color channel meams BGR,RGB. when ch =0 mean black/white\n",
        "img.shape"
      ],
      "execution_count": 34,
      "outputs": [
        {
          "output_type": "error",
          "ename": "AttributeError",
          "evalue": "ignored",
          "traceback": [
            "\u001b[0;31m---------------------------------------------------------------------------\u001b[0m",
            "\u001b[0;31mAttributeError\u001b[0m                            Traceback (most recent call last)",
            "\u001b[0;32m<ipython-input-34-32ad6cb7aa56>\u001b[0m in \u001b[0;36m<module>\u001b[0;34m()\u001b[0m\n\u001b[0;32m----> 1\u001b[0;31m \u001b[0mimg\u001b[0m\u001b[0;34m.\u001b[0m\u001b[0mshape\u001b[0m\u001b[0;34m\u001b[0m\u001b[0;34m\u001b[0m\u001b[0m\n\u001b[0m",
            "\u001b[0;31mAttributeError\u001b[0m: 'NoneType' object has no attribute 'shape'"
          ]
        }
      ]
    },
    {
      "cell_type": "code",
      "metadata": {
        "id": "QIl6_GfByn33",
        "colab_type": "code",
        "colab": {}
      },
      "source": [
        "#we can also share image using socket programming.\n",
        "#opencv supports BGR \n",
        "#GAN supports RGB\n",
        "#when we open image it will open in infinte loop and infinite loop is an imageviewer.\n",
        "#to display image\n",
        "cv2.imshow('cofee' , img)                       #('---') <-- windowname like in window we save it as cofee.jpg.\n",
        "# in colabs and aws here it show error beacuse they both will noy supports window function\n",
        "#wait for windows to close\n",
        "cv2.waitKey(30)    #hold for 30 milli or micro seconds\n",
        "cv2.waitKey(0)      #hold for infinite times.\n",
        "\n",
        "\n",
        "\n",
        "\n"
      ],
      "execution_count": 0,
      "outputs": []
    },
    {
      "cell_type": "code",
      "metadata": {
        "id": "eC_9ZO7O12ss",
        "colab_type": "code",
        "colab": {}
      },
      "source": [
        "from google.colab.patches import cv2_imshow\n",
        "cv2.imshow('cofee' , img) "
      ],
      "execution_count": 0,
      "outputs": []
    },
    {
      "cell_type": "code",
      "metadata": {
        "id": "l3BVnJpL2NFc",
        "colab_type": "code",
        "colab": {}
      },
      "source": [
        "from google.colab.patches import cv2_imshow"
      ],
      "execution_count": 0,
      "outputs": []
    },
    {
      "cell_type": "code",
      "metadata": {
        "id": "DPXuaXDk2NEm",
        "colab_type": "code",
        "colab": {}
      },
      "source": [
        "!curl -o logo.png https://colab.research.google.com/img/colab_favicon_256px.png\n",
        "import cv2\n",
        "img = cv2.imread('cofee.jpg', cv2.IMREAD_UNCHANGED)\n",
        "cv2_imshow(img)"
      ],
      "execution_count": 0,
      "outputs": []
    },
    {
      "cell_type": "code",
      "metadata": {
        "id": "G1ENkHSV0VrU",
        "colab_type": "code",
        "colab": {}
      },
      "source": [
        "#from this we will show our image here\n",
        "import matplotlib.pyplot as plt"
      ],
      "execution_count": 0,
      "outputs": []
    },
    {
      "cell_type": "code",
      "metadata": {
        "id": "q5a3IyBL1Z1z",
        "colab_type": "code",
        "colab": {}
      },
      "source": [
        "plt.imshow(img)"
      ],
      "execution_count": 0,
      "outputs": []
    },
    {
      "cell_type": "markdown",
      "metadata": {
        "id": "QlMcD6f22g41",
        "colab_type": "text"
      },
      "source": [
        "# we load the image , there are 3 properties : -\n",
        "1. image name\n",
        "2. image properties\n",
        "# 3 parameters are:---\n",
        "   # 1 means image in same color channel --GRB or RGB\n",
        "   # 0 means no color channel--black or white or gray image \n",
        "   # -1 mainatin image transparency\n",
        "   eg : -img = cv2.imread('cofee.jpg',0)"
      ]
    },
    {
      "cell_type": "code",
      "metadata": {
        "id": "fX12J5sr1emN",
        "colab_type": "code",
        "colab": {}
      },
      "source": [
        "img=cv2.imread('cofee.jpg' , 0)\n",
        "img1=cv2.imread('cofee.jpg' , 0)\n"
      ],
      "execution_count": 0,
      "outputs": []
    },
    {
      "cell_type": "code",
      "metadata": {
        "id": "yaMtozjA3e6E",
        "colab_type": "code",
        "colab": {}
      },
      "source": [
        "cv2.imshow('dog',img)\n",
        "cv2.imshow('dog1',img)"
      ],
      "execution_count": 0,
      "outputs": []
    },
    {
      "cell_type": "code",
      "metadata": {
        "id": "beWMjL2l3zID",
        "colab_type": "code",
        "colab": {}
      },
      "source": [
        "from google.colab.patches import cv2_imshow"
      ],
      "execution_count": 0,
      "outputs": []
    },
    {
      "cell_type": "code",
      "metadata": {
        "id": "3z1fJF_w3zHY",
        "colab_type": "code",
        "colab": {}
      },
      "source": [
        "!curl -o logo.png https://colab.research.google.com/img/colab_favicon_256px.png\n",
        "import cv2\n",
        "img = cv2.imread('cofee.jpg', cv2.IMREAD_UNCHANGED)\n",
        "cv2_imshow(img)\n",
        "cv2_imshow(img1)"
      ],
      "execution_count": 0,
      "outputs": []
    },
    {
      "cell_type": "markdown",
      "metadata": {
        "id": "lp-aM9kM4eXp",
        "colab_type": "text"
      },
      "source": [
        "# if we want a specific rows and columns ---crop"
      ]
    },
    {
      "cell_type": "code",
      "metadata": {
        "id": "O4suWzDD42oV",
        "colab_type": "code",
        "colab": {}
      },
      "source": [
        "cv2_imshow(img1[45:200,120:250])   #crop image\n",
        "cv2_imshow(img)    #original images"
      ],
      "execution_count": 0,
      "outputs": []
    },
    {
      "cell_type": "markdown",
      "metadata": {
        "id": "HSUU4cpe5Gj0",
        "colab_type": "text"
      },
      "source": [
        "# ques1 . we want image of 4*4 of the image means compressing images.  and decompress\n",
        "#ques2 : - !)zoom -area selected -------2) zoom - that area which is not selected .\n",
        "                  "
      ]
    },
    {
      "cell_type": "markdown",
      "metadata": {
        "id": "1YJTeoip6HTR",
        "colab_type": "text"
      },
      "source": [
        "# *New Section*"
      ]
    },
    {
      "cell_type": "code",
      "metadata": {
        "id": "w11rdT-x6ZuU",
        "colab_type": "code",
        "colab": {}
      },
      "source": [
        "'split' in dir(cv2)"
      ],
      "execution_count": 0,
      "outputs": []
    },
    {
      "cell_type": "code",
      "metadata": {
        "id": "Q-zQkYcs6eyN",
        "colab_type": "code",
        "colab": {}
      },
      "source": [
        "#splitting the BGR\n",
        "x,y,z = cv2.split(img)   #x=blue, y=green , z= red     # BGR\n",
        "cv2.imshow('cofee',x)\n",
        "cv2.imshow('cofee1',y)\n",
        "cv2.imshow('cofee2',z)\n",
        "\n"
      ],
      "execution_count": 0,
      "outputs": []
    },
    {
      "cell_type": "code",
      "metadata": {
        "id": "h7OOnIDj66pF",
        "colab_type": "code",
        "colab": {}
      },
      "source": [
        "from google.colab.patches import cv2_imshow"
      ],
      "execution_count": 0,
      "outputs": []
    },
    {
      "cell_type": "code",
      "metadata": {
        "id": "qDBcALah66oQ",
        "colab_type": "code",
        "colab": {}
      },
      "source": [
        "!curl -o logo.png https://colab.research.google.com/img/colab_favicon_256px.png\n",
        "import cv2\n",
        "img = cv2.imread('cofee.jpg', cv2.IMREAD_UNCHANGED)\n",
        "cv2_imshow(x)\n",
        "cv2_imshow(y)\n",
        "cv2_imshow(z)"
      ],
      "execution_count": 0,
      "outputs": []
    },
    {
      "cell_type": "code",
      "metadata": {
        "id": "PA1az5Bn64oK",
        "colab_type": "code",
        "colab": {
          "base_uri": "https://localhost:8080/",
          "height": 202
        },
        "outputId": "704a4ca6-07b0-4727-8989-c89b7457f613"
      },
      "source": [
        "#my image\n",
        "import numpy as np\n",
        "myimg = np.zeros((512,512))\n",
        "cv2.show('cofee4',myimg)"
      ],
      "execution_count": 43,
      "outputs": [
        {
          "output_type": "error",
          "ename": "AttributeError",
          "evalue": "ignored",
          "traceback": [
            "\u001b[0;31m---------------------------------------------------------------------------\u001b[0m",
            "\u001b[0;31mAttributeError\u001b[0m                            Traceback (most recent call last)",
            "\u001b[0;32m<ipython-input-43-08e71f1e12e2>\u001b[0m in \u001b[0;36m<module>\u001b[0;34m()\u001b[0m\n\u001b[1;32m      1\u001b[0m \u001b[0;32mimport\u001b[0m \u001b[0mnumpy\u001b[0m \u001b[0;32mas\u001b[0m \u001b[0mnp\u001b[0m\u001b[0;34m\u001b[0m\u001b[0;34m\u001b[0m\u001b[0m\n\u001b[1;32m      2\u001b[0m \u001b[0mmyimg\u001b[0m \u001b[0;34m=\u001b[0m \u001b[0mnp\u001b[0m\u001b[0;34m.\u001b[0m\u001b[0mzeros\u001b[0m\u001b[0;34m(\u001b[0m\u001b[0;34m(\u001b[0m\u001b[0;36m512\u001b[0m\u001b[0;34m,\u001b[0m\u001b[0;36m512\u001b[0m\u001b[0;34m)\u001b[0m\u001b[0;34m)\u001b[0m\u001b[0;34m\u001b[0m\u001b[0;34m\u001b[0m\u001b[0m\n\u001b[0;32m----> 3\u001b[0;31m \u001b[0mcv2\u001b[0m\u001b[0;34m.\u001b[0m\u001b[0mshow\u001b[0m\u001b[0;34m(\u001b[0m\u001b[0;34m'cofee4'\u001b[0m\u001b[0;34m,\u001b[0m\u001b[0mmyimg\u001b[0m\u001b[0;34m)\u001b[0m\u001b[0;34m\u001b[0m\u001b[0;34m\u001b[0m\u001b[0m\n\u001b[0m",
            "\u001b[0;31mAttributeError\u001b[0m: module 'cv2.cv2' has no attribute 'show'"
          ]
        }
      ]
    },
    {
      "cell_type": "markdown",
      "metadata": {
        "id": "K8OzpYny7xGv",
        "colab_type": "text"
      },
      "source": [
        "# *if we want to draw any line or any shape within the images*"
      ]
    },
    {
      "cell_type": "code",
      "metadata": {
        "id": "kW5rQNp-75Mz",
        "colab_type": "code",
        "colab": {
          "base_uri": "https://localhost:8080/",
          "height": 378
        },
        "outputId": "1ef59385-ff82-419a-808b-95c9696cd34e"
      },
      "source": [
        "#to draw line in image\n",
        "import cv2\n",
        "img=cv2.imread('cofee.jpg' , 0)\n",
        "cv2.line(img,(0,0),(200,230),(0,0,255),3)\n",
        "cv2.rectangle(img , (50,50),(100,110),(255,0,0),2)\n",
        "cv2.imshow('my',img)"
      ],
      "execution_count": 44,
      "outputs": [
        {
          "output_type": "error",
          "ename": "DisabledFunctionError",
          "evalue": "ignored",
          "traceback": [
            "\u001b[0;31m---------------------------------------------------------------------------\u001b[0m",
            "\u001b[0;31mDisabledFunctionError\u001b[0m                     Traceback (most recent call last)",
            "\u001b[0;32m<ipython-input-44-263ff242bf20>\u001b[0m in \u001b[0;36m<module>\u001b[0;34m()\u001b[0m\n\u001b[1;32m      3\u001b[0m \u001b[0mcv2\u001b[0m\u001b[0;34m.\u001b[0m\u001b[0mline\u001b[0m\u001b[0;34m(\u001b[0m\u001b[0mimg\u001b[0m\u001b[0;34m,\u001b[0m\u001b[0;34m(\u001b[0m\u001b[0;36m0\u001b[0m\u001b[0;34m,\u001b[0m\u001b[0;36m0\u001b[0m\u001b[0;34m)\u001b[0m\u001b[0;34m,\u001b[0m\u001b[0;34m(\u001b[0m\u001b[0;36m200\u001b[0m\u001b[0;34m,\u001b[0m\u001b[0;36m230\u001b[0m\u001b[0;34m)\u001b[0m\u001b[0;34m,\u001b[0m\u001b[0;34m(\u001b[0m\u001b[0;36m0\u001b[0m\u001b[0;34m,\u001b[0m\u001b[0;36m0\u001b[0m\u001b[0;34m,\u001b[0m\u001b[0;36m255\u001b[0m\u001b[0;34m)\u001b[0m\u001b[0;34m,\u001b[0m\u001b[0;36m3\u001b[0m\u001b[0;34m)\u001b[0m\u001b[0;34m\u001b[0m\u001b[0;34m\u001b[0m\u001b[0m\n\u001b[1;32m      4\u001b[0m \u001b[0mcv2\u001b[0m\u001b[0;34m.\u001b[0m\u001b[0mrectangle\u001b[0m\u001b[0;34m(\u001b[0m\u001b[0mimg\u001b[0m \u001b[0;34m,\u001b[0m \u001b[0;34m(\u001b[0m\u001b[0;36m50\u001b[0m\u001b[0;34m,\u001b[0m\u001b[0;36m50\u001b[0m\u001b[0;34m)\u001b[0m\u001b[0;34m,\u001b[0m\u001b[0;34m(\u001b[0m\u001b[0;36m100\u001b[0m\u001b[0;34m,\u001b[0m\u001b[0;36m110\u001b[0m\u001b[0;34m)\u001b[0m\u001b[0;34m,\u001b[0m\u001b[0;34m(\u001b[0m\u001b[0;36m255\u001b[0m\u001b[0;34m,\u001b[0m\u001b[0;36m0\u001b[0m\u001b[0;34m,\u001b[0m\u001b[0;36m0\u001b[0m\u001b[0;34m)\u001b[0m\u001b[0;34m,\u001b[0m\u001b[0;36m2\u001b[0m\u001b[0;34m)\u001b[0m\u001b[0;34m\u001b[0m\u001b[0;34m\u001b[0m\u001b[0m\n\u001b[0;32m----> 5\u001b[0;31m \u001b[0mcv2\u001b[0m\u001b[0;34m.\u001b[0m\u001b[0mimshow\u001b[0m\u001b[0;34m(\u001b[0m\u001b[0;34m'my'\u001b[0m\u001b[0;34m,\u001b[0m\u001b[0mimg\u001b[0m\u001b[0;34m)\u001b[0m\u001b[0;34m\u001b[0m\u001b[0;34m\u001b[0m\u001b[0m\n\u001b[0m",
            "\u001b[0;32m/usr/local/lib/python3.6/dist-packages/google/colab/_import_hooks/_cv2.py\u001b[0m in \u001b[0;36mwrapped\u001b[0;34m(*args, **kwargs)\u001b[0m\n\u001b[1;32m     50\u001b[0m   \u001b[0;32mdef\u001b[0m \u001b[0mwrapped\u001b[0m\u001b[0;34m(\u001b[0m\u001b[0;34m*\u001b[0m\u001b[0margs\u001b[0m\u001b[0;34m,\u001b[0m \u001b[0;34m**\u001b[0m\u001b[0mkwargs\u001b[0m\u001b[0;34m)\u001b[0m\u001b[0;34m:\u001b[0m\u001b[0;34m\u001b[0m\u001b[0;34m\u001b[0m\u001b[0m\n\u001b[1;32m     51\u001b[0m     \u001b[0;32mif\u001b[0m \u001b[0;32mnot\u001b[0m \u001b[0mos\u001b[0m\u001b[0;34m.\u001b[0m\u001b[0menviron\u001b[0m\u001b[0;34m.\u001b[0m\u001b[0mget\u001b[0m\u001b[0;34m(\u001b[0m\u001b[0menv_var\u001b[0m\u001b[0;34m,\u001b[0m \u001b[0;32mFalse\u001b[0m\u001b[0;34m)\u001b[0m\u001b[0;34m:\u001b[0m\u001b[0;34m\u001b[0m\u001b[0;34m\u001b[0m\u001b[0m\n\u001b[0;32m---> 52\u001b[0;31m       \u001b[0;32mraise\u001b[0m \u001b[0mDisabledFunctionError\u001b[0m\u001b[0;34m(\u001b[0m\u001b[0mmessage\u001b[0m\u001b[0;34m,\u001b[0m \u001b[0mname\u001b[0m \u001b[0;32mor\u001b[0m \u001b[0mfunc\u001b[0m\u001b[0;34m.\u001b[0m\u001b[0m__name__\u001b[0m\u001b[0;34m)\u001b[0m\u001b[0;34m\u001b[0m\u001b[0;34m\u001b[0m\u001b[0m\n\u001b[0m\u001b[1;32m     53\u001b[0m     \u001b[0;32mreturn\u001b[0m \u001b[0mfunc\u001b[0m\u001b[0;34m(\u001b[0m\u001b[0;34m*\u001b[0m\u001b[0margs\u001b[0m\u001b[0;34m,\u001b[0m \u001b[0;34m**\u001b[0m\u001b[0mkwargs\u001b[0m\u001b[0;34m)\u001b[0m\u001b[0;34m\u001b[0m\u001b[0;34m\u001b[0m\u001b[0m\n\u001b[1;32m     54\u001b[0m \u001b[0;34m\u001b[0m\u001b[0m\n",
            "\u001b[0;31mDisabledFunctionError\u001b[0m: cv2.imshow() is disabled in Colab, because it causes Jupyter sessions\nto crash; see https://github.com/jupyter/notebook/issues/3935.\nAs a substitution, consider using\n  from google.colab.patches import cv2_imshow\n"
          ]
        }
      ]
    },
    {
      "cell_type": "code",
      "metadata": {
        "id": "tSC181Xq9O5j",
        "colab_type": "code",
        "colab": {}
      },
      "source": [
        "from google.colab.patches import cv2_imshow"
      ],
      "execution_count": 0,
      "outputs": []
    },
    {
      "cell_type": "code",
      "metadata": {
        "id": "DNw_aK9T9O4O",
        "colab_type": "code",
        "colab": {
          "base_uri": "https://localhost:8080/",
          "height": 431
        },
        "outputId": "5110d07e-1c62-4970-f709-7f541e2c8db7"
      },
      "source": [
        "!curl -o logo.png https://colab.research.google.com/img/colab_favicon_256px.png\n",
        "import cv2\n",
        "img = cv2.imread('cofee.jpg', cv2.IMREAD_UNCHANGED)\n",
        "cv2.imshow(img)"
      ],
      "execution_count": 46,
      "outputs": [
        {
          "output_type": "stream",
          "text": [
            "  % Total    % Received % Xferd  Average Speed   Time    Time     Time  Current\n",
            "                                 Dload  Upload   Total   Spent    Left  Speed\n",
            "\r  0     0    0     0    0     0      0      0 --:--:-- --:--:-- --:--:--     0\r100  5500  100  5500    0     0  98214      0 --:--:-- --:--:-- --:--:-- 98214\n"
          ],
          "name": "stdout"
        },
        {
          "output_type": "error",
          "ename": "DisabledFunctionError",
          "evalue": "ignored",
          "traceback": [
            "\u001b[0;31m---------------------------------------------------------------------------\u001b[0m",
            "\u001b[0;31mDisabledFunctionError\u001b[0m                     Traceback (most recent call last)",
            "\u001b[0;32m<ipython-input-46-ba4738d4a469>\u001b[0m in \u001b[0;36m<module>\u001b[0;34m()\u001b[0m\n\u001b[1;32m      2\u001b[0m \u001b[0;32mimport\u001b[0m \u001b[0mcv2\u001b[0m\u001b[0;34m\u001b[0m\u001b[0;34m\u001b[0m\u001b[0m\n\u001b[1;32m      3\u001b[0m \u001b[0mimg\u001b[0m \u001b[0;34m=\u001b[0m \u001b[0mcv2\u001b[0m\u001b[0;34m.\u001b[0m\u001b[0mimread\u001b[0m\u001b[0;34m(\u001b[0m\u001b[0;34m'cofee.jpg'\u001b[0m\u001b[0;34m,\u001b[0m \u001b[0mcv2\u001b[0m\u001b[0;34m.\u001b[0m\u001b[0mIMREAD_UNCHANGED\u001b[0m\u001b[0;34m)\u001b[0m\u001b[0;34m\u001b[0m\u001b[0;34m\u001b[0m\u001b[0m\n\u001b[0;32m----> 4\u001b[0;31m \u001b[0mcv2\u001b[0m\u001b[0;34m.\u001b[0m\u001b[0mimshow\u001b[0m\u001b[0;34m(\u001b[0m\u001b[0mimg\u001b[0m\u001b[0;34m)\u001b[0m\u001b[0;34m\u001b[0m\u001b[0;34m\u001b[0m\u001b[0m\n\u001b[0m",
            "\u001b[0;32m/usr/local/lib/python3.6/dist-packages/google/colab/_import_hooks/_cv2.py\u001b[0m in \u001b[0;36mwrapped\u001b[0;34m(*args, **kwargs)\u001b[0m\n\u001b[1;32m     50\u001b[0m   \u001b[0;32mdef\u001b[0m \u001b[0mwrapped\u001b[0m\u001b[0;34m(\u001b[0m\u001b[0;34m*\u001b[0m\u001b[0margs\u001b[0m\u001b[0;34m,\u001b[0m \u001b[0;34m**\u001b[0m\u001b[0mkwargs\u001b[0m\u001b[0;34m)\u001b[0m\u001b[0;34m:\u001b[0m\u001b[0;34m\u001b[0m\u001b[0;34m\u001b[0m\u001b[0m\n\u001b[1;32m     51\u001b[0m     \u001b[0;32mif\u001b[0m \u001b[0;32mnot\u001b[0m \u001b[0mos\u001b[0m\u001b[0;34m.\u001b[0m\u001b[0menviron\u001b[0m\u001b[0;34m.\u001b[0m\u001b[0mget\u001b[0m\u001b[0;34m(\u001b[0m\u001b[0menv_var\u001b[0m\u001b[0;34m,\u001b[0m \u001b[0;32mFalse\u001b[0m\u001b[0;34m)\u001b[0m\u001b[0;34m:\u001b[0m\u001b[0;34m\u001b[0m\u001b[0;34m\u001b[0m\u001b[0m\n\u001b[0;32m---> 52\u001b[0;31m       \u001b[0;32mraise\u001b[0m \u001b[0mDisabledFunctionError\u001b[0m\u001b[0;34m(\u001b[0m\u001b[0mmessage\u001b[0m\u001b[0;34m,\u001b[0m \u001b[0mname\u001b[0m \u001b[0;32mor\u001b[0m \u001b[0mfunc\u001b[0m\u001b[0;34m.\u001b[0m\u001b[0m__name__\u001b[0m\u001b[0;34m)\u001b[0m\u001b[0;34m\u001b[0m\u001b[0;34m\u001b[0m\u001b[0m\n\u001b[0m\u001b[1;32m     53\u001b[0m     \u001b[0;32mreturn\u001b[0m \u001b[0mfunc\u001b[0m\u001b[0;34m(\u001b[0m\u001b[0;34m*\u001b[0m\u001b[0margs\u001b[0m\u001b[0;34m,\u001b[0m \u001b[0;34m**\u001b[0m\u001b[0mkwargs\u001b[0m\u001b[0;34m)\u001b[0m\u001b[0;34m\u001b[0m\u001b[0;34m\u001b[0m\u001b[0m\n\u001b[1;32m     54\u001b[0m \u001b[0;34m\u001b[0m\u001b[0m\n",
            "\u001b[0;31mDisabledFunctionError\u001b[0m: cv2.imshow() is disabled in Colab, because it causes Jupyter sessions\nto crash; see https://github.com/jupyter/notebook/issues/3935.\nAs a substitution, consider using\n  from google.colab.patches import cv2_imshow\n"
          ]
        }
      ]
    },
    {
      "cell_type": "code",
      "metadata": {
        "id": "E_3XMsjPFYoE",
        "colab_type": "code",
        "colab": {}
      },
      "source": [
        "from google.colab.patches import cv2_imshow"
      ],
      "execution_count": 0,
      "outputs": []
    },
    {
      "cell_type": "code",
      "metadata": {
        "id": "A96SRP6yFYmv",
        "colab_type": "code",
        "colab": {
          "base_uri": "https://localhost:8080/",
          "height": 378
        },
        "outputId": "bb11ad79-0486-4aa3-dda6-c36e9c587b00"
      },
      "source": [
        "!curl -o logo.png https://colab.research.google.com/img/colab_favicon_256px.png\n",
        "import cv2\n",
        "img = cv2.imread('cofee.jpg', cv2.IMREAD_UNCHANGED)\n",
        "cv2_imshow(img)"
      ],
      "execution_count": 42,
      "outputs": [
        {
          "output_type": "stream",
          "text": [
            "  % Total    % Received % Xferd  Average Speed   Time    Time     Time  Current\n",
            "                                 Dload  Upload   Total   Spent    Left  Speed\n",
            "\r  0     0    0     0    0     0      0      0 --:--:-- --:--:-- --:--:--     0\r100  5500  100  5500    0     0  91666      0 --:--:-- --:--:-- --:--:-- 91666\n"
          ],
          "name": "stdout"
        },
        {
          "output_type": "error",
          "ename": "AttributeError",
          "evalue": "ignored",
          "traceback": [
            "\u001b[0;31m---------------------------------------------------------------------------\u001b[0m",
            "\u001b[0;31mAttributeError\u001b[0m                            Traceback (most recent call last)",
            "\u001b[0;32m<ipython-input-42-8fd3824be2e0>\u001b[0m in \u001b[0;36m<module>\u001b[0;34m()\u001b[0m\n\u001b[1;32m      2\u001b[0m \u001b[0;32mimport\u001b[0m \u001b[0mcv2\u001b[0m\u001b[0;34m\u001b[0m\u001b[0;34m\u001b[0m\u001b[0m\n\u001b[1;32m      3\u001b[0m \u001b[0mimg\u001b[0m \u001b[0;34m=\u001b[0m \u001b[0mcv2\u001b[0m\u001b[0;34m.\u001b[0m\u001b[0mimread\u001b[0m\u001b[0;34m(\u001b[0m\u001b[0;34m'cofee.jpg'\u001b[0m\u001b[0;34m,\u001b[0m \u001b[0mcv2\u001b[0m\u001b[0;34m.\u001b[0m\u001b[0mIMREAD_UNCHANGED\u001b[0m\u001b[0;34m)\u001b[0m\u001b[0;34m\u001b[0m\u001b[0;34m\u001b[0m\u001b[0m\n\u001b[0;32m----> 4\u001b[0;31m \u001b[0mcv2_imshow\u001b[0m\u001b[0;34m(\u001b[0m\u001b[0mimg\u001b[0m\u001b[0;34m)\u001b[0m\u001b[0;34m\u001b[0m\u001b[0;34m\u001b[0m\u001b[0m\n\u001b[0m",
            "\u001b[0;32m/usr/local/lib/python3.6/dist-packages/google/colab/patches/__init__.py\u001b[0m in \u001b[0;36mcv2_imshow\u001b[0;34m(a)\u001b[0m\n\u001b[1;32m     20\u001b[0m       \u001b[0mimage\u001b[0m\u001b[0;34m.\u001b[0m\u001b[0;34m\u001b[0m\u001b[0;34m\u001b[0m\u001b[0m\n\u001b[1;32m     21\u001b[0m   \"\"\"\n\u001b[0;32m---> 22\u001b[0;31m   \u001b[0ma\u001b[0m \u001b[0;34m=\u001b[0m \u001b[0ma\u001b[0m\u001b[0;34m.\u001b[0m\u001b[0mclip\u001b[0m\u001b[0;34m(\u001b[0m\u001b[0;36m0\u001b[0m\u001b[0;34m,\u001b[0m \u001b[0;36m255\u001b[0m\u001b[0;34m)\u001b[0m\u001b[0;34m.\u001b[0m\u001b[0mastype\u001b[0m\u001b[0;34m(\u001b[0m\u001b[0;34m'uint8'\u001b[0m\u001b[0;34m)\u001b[0m\u001b[0;34m\u001b[0m\u001b[0;34m\u001b[0m\u001b[0m\n\u001b[0m\u001b[1;32m     23\u001b[0m   \u001b[0;31m# cv2 stores colors as BGR; convert to RGB\u001b[0m\u001b[0;34m\u001b[0m\u001b[0;34m\u001b[0m\u001b[0;34m\u001b[0m\u001b[0m\n\u001b[1;32m     24\u001b[0m   \u001b[0;32mif\u001b[0m \u001b[0ma\u001b[0m\u001b[0;34m.\u001b[0m\u001b[0mndim\u001b[0m \u001b[0;34m==\u001b[0m \u001b[0;36m3\u001b[0m\u001b[0;34m:\u001b[0m\u001b[0;34m\u001b[0m\u001b[0;34m\u001b[0m\u001b[0m\n",
            "\u001b[0;31mAttributeError\u001b[0m: 'NoneType' object has no attribute 'clip'"
          ]
        }
      ]
    },
    {
      "cell_type": "code",
      "metadata": {
        "id": "ONi0Xspv8SYm",
        "colab_type": "code",
        "colab": {}
      },
      "source": [
        ""
      ],
      "execution_count": 0,
      "outputs": []
    }
  ]
}